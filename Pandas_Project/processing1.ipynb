{
 "cells": [
  {
   "cell_type": "markdown",
   "metadata": {},
   "source": []
  },
  {
   "cell_type": "code",
   "execution_count": 10,
   "metadata": {
    "deletable": false,
    "nbgrader": {
     "cell_type": "code",
     "checksum": "d353b18a8e94215c9e6a68ea696971fc",
     "grade": true,
     "grade_id": "cell-f34bfe192c95e8ff",
     "locked": false,
     "points": 25,
     "schema_version": 3,
     "solution": true,
     "task": false
    }
   },
   "outputs": [],
   "source": [
    "import pandas as pd\n",
    "import os\n",
    "import os.path"
   ]
  },
  {
   "cell_type": "code",
   "execution_count": 11,
   "metadata": {},
   "outputs": [],
   "source": [
    "def dropAggs(countryData):\n",
    "    country0 = countryData.copy()\n",
    "    country0 = country0.dropna(subset=['Region'])\n",
    "    return country0"
   ]
  },
  {
   "cell_type": "code",
   "execution_count": 12,
   "metadata": {},
   "outputs": [],
   "source": [
    "def cleanData(Statsdata):\n",
    "    data0 = Statsdata.copy()\n",
    "    data0 = data0.melt(id_vars=['Country Name','Country Code','Indicator Name','Indicator Code'],var_name = 'Year')\n",
    "    data0 = data0.pivot_table(index = ['Country Name','Country Code','Year'],columns = 'Indicator Name')         \n",
    "    return data0"
   ]
  },
  {
   "cell_type": "code",
   "execution_count": 13,
   "metadata": {},
   "outputs": [],
   "source": [
    "def makeQ1(Statsdata,mergecols):\n",
    "    q1df = Statsdata.loc[:,[('value','Government expenditure on education, total(% of GDP)'),\n",
    "                        ('value','Expected Years of School'),\n",
    "                        ('value','Primary completion rate, female(% of relevant age group)'),\n",
    "                        ('value','Primary completion rate, male(% of relevant age group)'),\n",
    "                        ('value','Educational attainment, at least completed lower secondary, population 25+, female (%) (cumulative)'),\n",
    "                        ('value','Educational attainment, at least completed lower secondary, population 25+, male (%) (cumulative)'),\n",
    "                        ('value','Educational attainment, at least completed upper secondary, population 25+, female (%) (cumulative)'),\n",
    "                        ('value','Educational attainment, at least completed upper secondary, population 25+, male (%) (cumulative)'),\n",
    "                        ('value','Educational attainment, at least completed post-secondary, population 25+, female (%) (cumulative)'),\n",
    "                        ('value','Educational attainment, at least completed post-secondary, population 25+, male (%) (cumulative)'),                   \n",
    "                       ]]\n",
    "    q1df = q1df.reset_index()\n",
    "    q1df = q1df.set_index('Country Code')\n",
    "    q1merge = pd.merge(q1df,mergecols,on = 'Country Code',how = 'outer')\n",
    "\n",
    "    q1merge.columns = ['Country Code','Country Name','Year','Gov. spending on education(% of GDP)', 'Expected Years of School','Female Primary School Completion Rate',\n",
    "                   'Male Primary School Completion Rate', 'Female Lower Secondary School Completion Rate',\n",
    "                   'Male Lower Secondary School Completion Rate', 'Female Upper Secondary School Completion Rate',\n",
    "                   'Male Upper Secondary School Completion Rate', 'Female Post Secondary School Completion Rate',\n",
    "                   'Male Post Secondary School Completion Rate', 'Region'\n",
    "                  ]\n",
    "    q1merge = q1merge.set_index(['Country Code','Country Name','Year'])\n",
    "\n",
    "\n",
    "    q1males = q1merge.loc[:,['Gov. spending on education(% of GDP)', 'Expected Years of School',\n",
    "                        'Male Primary School Completion Rate','Male Lower Secondary School Completion Rate',\n",
    "                        'Male Upper Secondary School Completion Rate','Male Post Secondary School Completion Rate', 'Region'\n",
    "                        ]]\n",
    "    q1males['Sex'] = 'Male'\n",
    "    q1males = q1males.reset_index()\n",
    "    q1males = q1males.set_index(['Country Code','Country Name','Year','Sex'])\n",
    "    q1males.columns = ['Gov. spending on education(% of GDP)', 'Expected Years of School',\n",
    "                        'Primary School Completion Rate','Lower Secondary School Completion Rate',\n",
    "                        'Upper Secondary School Completion Rate','Post Secondary School Completion Rate', 'Region'\n",
    "                        ]\n",
    "\n",
    "    q1females = q1merge.loc[:,['Gov. spending on education(% of GDP)', 'Expected Years of School',\n",
    "                        'Female Primary School Completion Rate','Female Lower Secondary School Completion Rate',\n",
    "                        'Female Upper Secondary School Completion Rate','Female Post Secondary School Completion Rate', 'Region'\n",
    "                        ]]\n",
    "    q1females['Sex'] = 'Female'\n",
    "    q1females = q1females.reset_index()\n",
    "    q1females = q1females.set_index(['Country Code','Country Name','Year','Sex'])\n",
    "    q1females.columns = ['Gov. spending on education(% of GDP)', 'Expected Years of School',\n",
    "                        'Primary School Completion Rate','Lower Secondary School Completion Rate',\n",
    "                        'Upper Secondary School Completion Rate','Post Secondary School Completion Rate', 'Region'\n",
    "                        ]\n",
    "    q1finaldf = pd.concat([q1males,q1females])\n",
    "    q1finaldf = q1finaldf.dropna(subset=['Region'])\n",
    "    \n",
    "    return q1finaldf"
   ]
  },
  {
   "cell_type": "code",
   "execution_count": 14,
   "metadata": {},
   "outputs": [],
   "source": [
    "def q2Data(Statsdata, mergecols):\n",
    "    q2df = Statsdata.loc[:,[('value','Unemployment, female (% of female labor force) (modeled ILO estimate)'),\n",
    "                    ('value','Unemployment, male (% of male labor force) (modeled ILO estimate)'),\n",
    "                    ('value','Share of female business owners (% of total business owners)'),\n",
    "                    ('value','Share of female directors (% of total directors)'),\n",
    "                    ('value','Start-up procedures to register a business, female (number)'),\n",
    "                    ('value','Start-up procedures to register a business, male (number)'),\n",
    "                    ('value','Women are able to work in the same industries as men (1=yes; 0=no)')\n",
    "                   ]]\n",
    "    q2df = q2df.reset_index()\n",
    "    q2df = q2df.set_index('Country Code')\n",
    "    q2merge = pd.merge(q2df,mergecols,on = 'Country Code',how = 'outer')\n",
    "    q2merge.columns = ['Country Code','Country Name','Year','Female Unemployment Rate','Male Unemployment Rate',\n",
    "                   'Share of Female Business Owners', 'Share of Female Directors', 'Female Steps to Start a Business', \n",
    "                   'Male Steps to Start a Business', 'Women Work in Same Industry as Men (bool)','Region']\n",
    "    q2merge = q2merge.set_index(['Country Code','Country Name','Year'])\n",
    "\n",
    "    q2adf = q2merge.loc[:,['Share of Female Business Owners','Share of Female Directors','Women Work in Same Industry as Men (bool)','Region']]\n",
    "\n",
    "    q2males = q2merge.loc[:,['Male Unemployment Rate','Male Steps to Start a Business','Region']]\n",
    "    q2males['Sex'] = 'Male'\n",
    "    q2males = q2males.reset_index()\n",
    "    q2males = q2males.set_index(['Country Code','Country Name','Year','Sex'])\n",
    "    q2males.columns = ['Unemployment Rate','Steps to Start a Business','Region']\n",
    "\n",
    "    q2females = q2merge.loc[:,['Female Unemployment Rate','Female Steps to Start a Business','Region']]\n",
    "    q2females['Sex'] = 'Female'\n",
    "    q2females = q2females.reset_index()\n",
    "    q2females = q2females.set_index(['Country Code','Country Name','Year','Sex'])\n",
    "    q2females.columns = ['Unemployment Rate','Steps to Start a Business','Region']\n",
    "\n",
    "\n",
    "    q2sexdf = pd.concat([q2males,q2females])\n",
    "    q2sexdf = q2sexdf.dropna(subset=['Region'])\n",
    "    q2adf = q2adf.dropna(subset=['Region'])\n",
    "    \n",
    "    return q2adf, q2sexdf"
   ]
  },
  {
   "cell_type": "code",
   "execution_count": 15,
   "metadata": {},
   "outputs": [],
   "source": [
    "def makeQ3(Statsdata, mergecols):\n",
    "    q3df = Statsdata.loc[:,[('value','Legislation specifically addresses sexual harassment (1=yes; 0=no)'),\n",
    "                   ('value','Proportion of women subjected to physical and/or sexual violence in the last 12 months (% of women age 15-49)')\n",
    "                   ]]\n",
    "    q3df = q3df.reset_index()\n",
    "    q3df = q3df.set_index('Country Code')\n",
    "    q3merge = pd.merge(q3df,mergecols,on = 'Country Code',how = 'outer')\n",
    "    q3merge.columns = ['Country Code','Country Name','Year','Legislation Addresses Sexual Violence','Prevelence of Sexual Violence','Region']\n",
    "    q3merge = q3merge.set_index(['Country Code','Country Name','Year'])\n",
    "\n",
    "    return q3merge"
   ]
  },
  {
   "cell_type": "code",
   "execution_count": 16,
   "metadata": {},
   "outputs": [],
   "source": [
    "def makeCSVs(q1, q2a, q2b, q3):\n",
    "    q1.to_csv('q1.csv')\n",
    "    q2a.to_csv('q2sex.csv')\n",
    "    q2b.to_csv('q2adf.csv')\n",
    "    q3.to_csv('q3.csv')"
   ]
  },
  {
   "cell_type": "code",
   "execution_count": 17,
   "metadata": {},
   "outputs": [],
   "source": [
    "def main():\n",
    "    datadir = 'publicdata/Gender_Stats'\n",
    "    country = pd.read_csv(os.path.join(datadir,'Gender_StatsCountry.csv'))\n",
    "    data = pd.read_csv(os.path.join(datadir,'Gender_StatsData.csv'))\n",
    "    \n",
    "    country0 = dropAggs(country)\n",
    "    mergecols = country0.loc[:,['Country Code','Region']]\n",
    "    data0 = cleanData(data)\n",
    "    q1finaldf = makeQ1(data0, mergecols)\n",
    "    q2adf, q2sex = q2Data(data0, mergecols)\n",
    "    q3finaldf = makeQ3(data0, mergecols)\n",
    "    makeCSVs(q1finaldf, q2sex, q2adf, q3finaldf)\n",
    "main()"
   ]
  },
  {
   "cell_type": "code",
   "execution_count": null,
   "metadata": {},
   "outputs": [],
   "source": []
  },
  {
   "cell_type": "code",
   "execution_count": null,
   "metadata": {},
   "outputs": [],
   "source": []
  }
 ],
 "metadata": {
  "kernelspec": {
   "display_name": "Python 3",
   "language": "python",
   "name": "python3"
  },
  "language_info": {
   "codemirror_mode": {
    "name": "ipython",
    "version": 3
   },
   "file_extension": ".py",
   "mimetype": "text/x-python",
   "name": "python",
   "nbconvert_exporter": "python",
   "pygments_lexer": "ipython3",
   "version": "3.7.4"
  }
 },
 "nbformat": 4,
 "nbformat_minor": 4
}
