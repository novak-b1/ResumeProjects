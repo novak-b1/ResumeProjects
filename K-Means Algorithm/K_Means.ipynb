{
 "cells": [
  {
   "cell_type": "markdown",
   "metadata": {},
   "source": [
    "# Part 1: K-Means Algorithm"
   ]
  },
  {
   "cell_type": "markdown",
   "metadata": {},
   "source": [
    "## Importing data "
   ]
  },
  {
   "cell_type": "code",
   "execution_count": 10,
   "metadata": {},
   "outputs": [],
   "source": [
    "import pandas as pd\n",
    "import matplotlib.pyplot as plt\n",
    "import seaborn as sns\n",
    "import numpy as np\n",
    "import random\n",
    "import sys\n",
    "def read_data():\n",
    "    df = pd.read_csv(\"data.txt\", names=[\"x\", \"y\"])\n",
    "    data = df.to_numpy()\n",
    "    #NORMALIZE DATA\n",
    "    norm_data = np.linalg.norm(data)\n",
    "    data = data/norm_data\n",
    "    return data"
   ]
  },
  {
   "cell_type": "markdown",
   "metadata": {},
   "source": [
    "## Calculate distance"
   ]
  },
  {
   "cell_type": "code",
   "execution_count": 11,
   "metadata": {},
   "outputs": [],
   "source": [
    "def find_distance(p1, p2):\n",
    "    return sum((p1-p2)**2)"
   ]
  },
  {
   "cell_type": "markdown",
   "metadata": {},
   "source": [
    "## Calculate Error"
   ]
  },
  {
   "cell_type": "code",
   "execution_count": 12,
   "metadata": {},
   "outputs": [],
   "source": [
    "def find_error(centers, points):\n",
    "    error = []\n",
    "    for i in points:\n",
    "        distance = []\n",
    "        for j in centers:\n",
    "            distance.append(find_distance(i, j))\n",
    "        error.append(np.min(distance, axis = 0))\n",
    "    return error"
   ]
  },
  {
   "cell_type": "markdown",
   "metadata": {},
   "source": [
    "## Assignment Phase"
   ]
  },
  {
   "cell_type": "code",
   "execution_count": 13,
   "metadata": {},
   "outputs": [],
   "source": [
    "def find_centers(centers, points):\n",
    "    assign_centers = []\n",
    "    for i in points:\n",
    "        distance = []\n",
    "        for j in centers:\n",
    "            distance.append(find_distance(i, j))\n",
    "        assign_centers.append(np.argmin(distance, axis = 0))\n",
    "    return assign_centers"
   ]
  },
  {
   "cell_type": "markdown",
   "metadata": {},
   "source": [
    "## Adjustment Phase"
   ]
  },
  {
   "cell_type": "code",
   "execution_count": 14,
   "metadata": {},
   "outputs": [],
   "source": [
    "def create_new_centers(centers, points):\n",
    "    new_centers = []\n",
    "    points_DF = pd.DataFrame(points)\n",
    "    centers_DF = pd.DataFrame(centers, columns = [\"centers\"])\n",
    "    new_DF = pd.concat([points_DF, centers_DF], axis=1)\n",
    "    for center in set(new_DF[\"centers\"]):\n",
    "        current_center = new_DF[new_DF['centers'] == center][new_DF.columns[:-1]]\n",
    "        center_mean = current_center.mean(axis=0)\n",
    "        new_centers.append(center_mean)   \n",
    "    return new_centers"
   ]
  },
  {
   "cell_type": "code",
   "execution_count": 15,
   "metadata": {},
   "outputs": [],
   "source": [
    "def main(k):\n",
    "    data = read_data()\n",
    "    error_values = []\n",
    "    k_value = []\n",
    "    iterations = []\n",
    "    #for k value 1 to 29\n",
    "    for k in range(1, k+1):\n",
    "        k_value.append(k)\n",
    "        centers_index = random.sample(range(0, len(data)), k)\n",
    "        centers = []\n",
    "        for i in centers_index:\n",
    "            centers.append(data[i])\n",
    "        e = []\n",
    "        get_centers = find_centers(centers, data)\n",
    "        centers = create_new_centers(get_centers, data)\n",
    "        error = find_error(centers, data)\n",
    "        e.append(error)\n",
    "        ite = 0\n",
    "        while(len(e) ==1 or sum(e[0]) < sum(e[1])):\n",
    "            get_centers = find_centers(centers, data)\n",
    "            centers = create_new_centers(get_centers, data)\n",
    "            error = find_error(centers, data)\n",
    "            e.append(error)\n",
    "            ite = ite +1\n",
    "        iterations.append(ite)\n",
    "        error_values.append(sum(error)) #find error for each k \n",
    "    return k_value, error_values, iterations, centers, data"
   ]
  },
  {
   "cell_type": "code",
   "execution_count": 16,
   "metadata": {},
   "outputs": [],
   "source": [
    "k_value, error_values, iterations, centers, data = main(20)"
   ]
  },
  {
   "cell_type": "code",
   "execution_count": 17,
   "metadata": {},
   "outputs": [
    {
     "data": {
      "image/png": "[encoded data removed]",
      "text/plain": [
       "<Figure size 432x288 with 1 Axes>"
      ]
     },
     "metadata": {
      "needs_background": "light"
     },
     "output_type": "display_data"
    }
   ],
   "source": [
    "plt.figure()\n",
    "plt.xticks(k_value)\n",
    "plt.xlabel(\"k value\")\n",
    "plt.ylabel(\"Error\")\n",
    "plt.scatter(k_value, error_values) ## plot error value for each k \n",
    "plt.show()"
   ]
  },
  {
   "cell_type": "markdown",
   "metadata": {},
   "source": [
    "Here we see that the elbow of the graph is at 4. This leads us to be believe there are 4 clusters. Below, we graph with the data with 4 assigned centers"
   ]
  },
  {
   "cell_type": "code",
   "execution_count": 18,
   "metadata": {},
   "outputs": [
    {
     "name": "stdout",
     "output_type": "stream",
     "text": [
      "1\n"
     ]
    },
    {
     "data": {
      "image/png": "[encoded data removed]",
      "text/plain": [
       "<Figure size 432x288 with 1 Axes>"
      ]
     },
     "metadata": {
      "needs_background": "light"
     },
     "output_type": "display_data"
    }
   ],
   "source": [
    "k_value, error_values, iterations, centers, data = main(4)\n",
    "print(iterations[-1])\n",
    "plt.figure()\n",
    "plt.scatter(np.array(centers)[:, 0], np.array(centers)[:, 1], color='black')\n",
    "plt.scatter(data[:, 0], data[:, 1], alpha=0.1)\n",
    "plt.show()"
   ]
  },
  {
   "cell_type": "markdown",
   "metadata": {},
   "source": [
    "We can see from this graph that there are 4 clusters."
   ]
  }
 ],
 "metadata": {
  "kernelspec": {
   "display_name": "Python 3",
   "language": "python",
   "name": "python3"
  },
  "language_info": {
   "codemirror_mode": {
    "name": "ipython",
    "version": 3
   },
   "file_extension": ".py",
   "mimetype": "text/x-python",
   "name": "python",
   "nbconvert_exporter": "python",
   "pygments_lexer": "ipython3",
   "version": "3.7.4"
  }
 },
 "nbformat": 4,
 "nbformat_minor": 4
}
